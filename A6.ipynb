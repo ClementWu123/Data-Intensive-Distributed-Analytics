{
  "nbformat": 4,
  "nbformat_minor": 0,
  "metadata": {
    "kernelspec": {
      "display_name": "Python 3",
      "language": "python",
      "name": "python3"
    },
    "language_info": {
      "codemirror_mode": {
        "name": "ipython",
        "version": 3
      },
      "file_extension": ".py",
      "mimetype": "text/x-python",
      "name": "python",
      "nbconvert_exporter": "python",
      "pygments_lexer": "ipython3",
      "version": "3.6.8"
    },
    "colab": {
      "name": "A6.ipynb",
      "provenance": [],
      "collapsed_sections": []
    }
  },
  "cells": [
    {
      "cell_type": "markdown",
      "metadata": {
        "deletable": false,
        "tags": [
          "instructions"
        ],
        "id": "I1gm9-t0i7Ok"
      },
      "source": [
        "## CS431/631 Data Intensive Distributed Computing\n",
        "### Winter 2022 - Assignment 6\n",
        "---"
      ]
    },
    {
      "cell_type": "markdown",
      "metadata": {
        "deletable": false,
        "tags": [
          "instructions"
        ],
        "id": "-CB3G_gbi7Ok"
      },
      "source": [
        "**Please edit this (text) cell to provide your name and UW student ID number!**\n",
        "* **Name:** Clement Wu\n",
        "* **ID:** 20775633"
      ]
    },
    {
      "cell_type": "markdown",
      "metadata": {
        "id": "R5BLErorljlr"
      },
      "source": [
        "Let's first install Spark. This will take a minute to finish."
      ]
    },
    {
      "cell_type": "code",
      "metadata": {
        "id": "lh5NCoc8fsSO"
      },
      "source": [
        "!apt-get update -qq > /dev/null\n",
        "!apt-get install openjdk-8-jdk-headless -qq > /dev/null\n",
        "!wget -q https://downloads.apache.org/spark/spark-2.4.8/spark-2.4.8-bin-hadoop2.7.tgz\n",
        "!tar xf spark-2.4.8-bin-hadoop2.7.tgz\n",
        "!pip install -q findspark"
      ],
      "execution_count": 1,
      "outputs": []
    },
    {
      "cell_type": "markdown",
      "metadata": {
        "id": "ILheUROOhprv"
      },
      "source": [
        "Now that you installed Spark and Java in Colab, it is time to set the environment path which enables you to run Pyspark in your Colab environment. Next we define a function that helps us create SparkContext and StreamingContext. "
      ]
    },
    {
      "cell_type": "code",
      "metadata": {
        "id": "Xnxe-BhPmbBW"
      },
      "source": [
        "import os\n",
        "os.environ[\"JAVA_HOME\"] = \"/usr/lib/jvm/java-8-openjdk-amd64\"\n",
        "os.environ[\"SPARK_HOME\"] = \"/content/spark-2.4.8-bin-hadoop2.7\"\n",
        "\n",
        "import findspark\n",
        "findspark.init()\n",
        "\n",
        "from pyspark import SparkContext, SparkConf\n",
        "from pyspark.streaming import StreamingContext\n",
        "import time\n",
        "\n",
        "# This function creates SparkContext and StreamingContext\n",
        "# Do not change this function\n",
        "def initStreamingContext():\n",
        "    try:\n",
        "      ssc.end()\n",
        "    except:\n",
        "      pass\n",
        "    finally:\n",
        "      spark_conf = SparkConf()\\\n",
        "            .setAppName(\"YourTest\")\\\n",
        "            .setMaster(\"local[*]\")\n",
        "      sc = SparkContext.getOrCreate(spark_conf)\n",
        "      # Creating Streaming Context with batch window size of 1 second\n",
        "      ssc = StreamingContext(sc, 1)\n",
        "      return ssc"
      ],
      "execution_count": 1,
      "outputs": []
    },
    {
      "cell_type": "markdown",
      "metadata": {
        "id": "UeHmOcUv4hg3"
      },
      "source": [
        "### Overview\n",
        "\n",
        "The data we use in this assignment was collected from the sensors installed on a wall-navigating robot. The robot uses 24 ultrasound sensors arranged circularly around its \"waist\". The numbering of the ultrasound sensors starts at the front of the robot and increases in clockwise direction. To make our data streaming scenario realistic, we have developed a server that streams the robot's data to your program (as if you are really getting the data live from the robot). You will use Spark Streaming to perform a few simple tasks on this data.\n",
        "\n",
        "Every line of data transmitted by the server corresponds to a measurement done by the robot. Here is one line of such data:\n",
        "\n",
        "```\n",
        "0.438,0.498,3.625,3.645,5.000,2.918,5.000,2.351,2.332,2.643,1.698,1.687,1.698,1.717,1.744,0.593,0.502,0.493,0.504,0.445,0.431,0.444,0.440,0.429,Slight-Right-Turn\n",
        "```\n",
        "The raw values are the measurements of all 24 ultrasound sensors and the corresponding movement type which can be one of the following:\n",
        "Move-Forward, Slight-Right-Turn, Sharp-Right-Turn, and Slight-Left-Turn.\n",
        "\n",
        "Run the following block to see the flow of data for 5 seconds. This is normal that in each run the data is slightly shifted in time because it depends on the delay of receiving the data from the server across the Internet.Therefore, in every 1 second batch, we might have different numbers of measurements and it can vary across different runs."
      ]
    },
    {
      "cell_type": "code",
      "metadata": {
        "id": "BGFcbRKL7ICo",
        "colab": {
          "base_uri": "https://localhost:8080/"
        },
        "outputId": "f498326d-f55e-41db-ce2f-0af34bd78723"
      },
      "source": [
        "# Let's create ssc.\n",
        "ssc = initStreamingContext()\n",
        "# We initialize a DStream by connecting it to a TCP socket. \n",
        "# The server will start sending data which goes to the robotData DStream.\n",
        "robotData = ssc.socketTextStream(\"datasci.cs.uwaterloo.ca\", 4321)\n",
        "robotData.pprint()\n",
        "ssc.start()\n",
        "# Just wait 5 seconds before we stop the stream.\n",
        "time.sleep(5)\n",
        "ssc.stop()\n"
      ],
      "execution_count": 4,
      "outputs": [
        {
          "output_type": "stream",
          "name": "stdout",
          "text": [
            "-------------------------------------------\n",
            "Time: 2022-03-26 19:02:26\n",
            "-------------------------------------------\n",
            "0.438,0.498,3.625,3.645,5.000,2.918,5.000,2.351,2.332,2.643,1.698,1.687,1.698,1.717,1.744,0.593,0.502,0.493,0.504,0.445,0.431,0.444,0.440,0.429,Slight-Right-Turn\n",
            "0.438,0.498,3.625,3.648,5.000,2.918,5.000,2.637,2.332,2.649,1.695,1.687,1.695,1.720,1.744,0.592,0.502,0.493,0.504,0.449,0.431,0.444,0.443,0.429,Slight-Right-Turn\n",
            "0.438,0.498,3.625,3.629,5.000,2.918,5.000,2.637,2.334,2.643,1.696,1.687,1.695,1.717,1.744,0.593,0.502,0.493,0.504,0.449,0.431,0.444,0.446,0.429,Slight-Right-Turn\n",
            "0.437,0.501,3.625,3.626,5.000,2.918,5.000,2.353,2.334,2.642,1.730,1.687,1.695,1.717,1.744,0.593,0.502,0.493,0.504,0.449,0.431,0.444,0.444,0.429,Slight-Right-Turn\n",
            "0.438,0.498,3.626,3.629,5.000,2.918,5.000,2.640,2.334,2.639,1.696,1.687,1.695,1.717,1.744,0.592,0.502,0.493,0.504,0.449,0.431,0.444,0.441,0.429,Slight-Right-Turn\n",
            "0.439,0.498,3.626,3.629,5.000,2.918,5.000,2.633,2.334,2.645,1.705,1.686,1.694,1.719,1.744,0.589,0.502,0.493,0.504,0.446,0.431,0.444,0.444,0.430,Slight-Right-Turn\n",
            "\n",
            "-------------------------------------------\n",
            "Time: 2022-03-26 19:02:27\n",
            "-------------------------------------------\n",
            "0.440,5.000,3.627,3.628,5.000,2.919,3.028,2.346,2.330,2.638,1.727,1.684,1.692,1.714,1.745,0.588,0.501,0.492,0.504,0.451,0.433,0.446,0.444,0.432,Slight-Right-Turn\n",
            "0.444,5.021,3.631,3.634,5.000,2.919,5.000,2.626,2.327,2.638,1.698,1.680,1.688,1.709,1.740,0.595,0.500,0.491,0.503,0.453,0.436,0.448,0.444,0.436,Slight-Right-Turn\n",
            "0.451,5.025,3.635,3.639,5.000,2.920,3.027,2.620,2.323,2.632,1.706,1.673,1.681,1.703,0.753,0.595,0.499,0.491,0.502,0.457,0.440,0.453,0.454,0.442,Sharp-Right-Turn\n",
            "0.458,5.022,3.640,3.644,5.000,2.922,5.000,2.346,2.321,2.628,1.688,1.666,1.674,1.696,0.744,0.590,0.496,0.490,0.498,0.462,0.444,0.458,0.461,0.449,Sharp-Right-Turn\n",
            "0.465,0.525,3.646,3.670,5.000,2.923,5.000,2.611,2.315,2.631,1.674,1.658,1.666,1.688,0.735,0.593,0.495,0.488,0.497,0.467,0.449,0.462,0.469,0.457,Sharp-Right-Turn\n",
            "0.473,0.533,3.652,3.676,5.000,2.925,5.000,2.607,2.310,2.623,1.669,1.651,1.659,1.684,0.729,0.578,0.496,0.487,0.498,0.469,0.454,0.467,0.476,0.465,Sharp-Right-Turn\n",
            "0.481,0.544,3.658,3.678,5.000,2.926,5.000,2.606,2.303,2.619,1.668,1.643,1.651,1.275,0.723,0.581,0.495,0.486,0.497,0.477,0.459,0.472,0.484,0.472,Sharp-Right-Turn\n",
            "0.484,0.544,3.661,3.665,5.000,2.928,5.000,2.321,2.304,5.022,1.647,1.639,1.646,1.270,0.757,0.623,0.493,0.484,0.495,0.480,0.461,0.474,0.485,0.476,Sharp-Right-Turn\n",
            "0.484,0.532,3.669,3.662,2.945,2.926,5.000,2.326,2.306,2.620,1.648,1.639,1.646,1.270,0.760,0.533,0.493,0.483,0.494,0.507,0.461,0.473,0.486,0.476,Sharp-Right-Turn\n",
            "0.482,0.520,3.685,3.664,2.952,2.927,5.000,2.981,2.307,2.329,1.650,1.640,1.644,1.268,0.757,0.533,0.492,0.482,0.492,0.513,0.459,0.474,0.485,0.474,Sharp-Right-Turn\n",
            "\n",
            "-------------------------------------------\n",
            "Time: 2022-03-26 19:02:28\n",
            "-------------------------------------------\n",
            "0.481,0.522,3.682,3.661,2.955,2.927,2.957,2.984,1.700,2.622,1.651,1.641,1.645,1.272,0.761,0.530,0.492,0.482,0.492,0.513,0.462,0.486,0.483,0.473,Sharp-Right-Turn\n",
            "0.480,0.525,3.694,3.664,2.948,2.926,2.950,2.995,1.697,2.619,1.651,1.642,1.646,1.269,0.762,0.530,0.493,0.482,0.492,0.516,0.462,0.486,0.483,0.473,Sharp-Right-Turn\n",
            "0.481,0.515,5.018,3.664,2.956,2.927,2.947,2.993,1.697,2.622,1.651,1.641,1.645,1.269,0.765,0.592,0.489,0.482,0.495,0.531,0.462,0.499,0.483,0.473,Sharp-Right-Turn\n",
            "0.479,5.000,3.696,3.661,2.953,2.927,2.944,2.993,1.702,2.622,1.649,1.642,1.645,1.269,0.812,0.588,0.489,0.481,0.491,0.510,0.462,0.481,0.483,0.473,Sharp-Right-Turn\n",
            "0.480,0.506,5.019,3.665,2.941,2.929,2.945,2.981,1.700,2.616,1.652,1.642,1.645,1.271,0.814,0.643,0.491,0.480,0.493,0.524,0.461,0.469,0.484,0.473,Sharp-Right-Turn\n",
            "0.479,5.000,5.019,3.661,2.943,2.930,2.942,2.996,1.698,2.312,1.653,1.642,1.644,1.274,0.811,0.617,0.491,0.479,0.491,0.575,0.461,0.465,0.484,0.473,Sharp-Right-Turn\n",
            "0.479,5.000,5.020,3.662,2.945,2.931,2.942,2.997,1.700,2.313,1.654,1.642,1.644,1.270,0.908,0.616,0.490,0.478,0.489,0.503,0.460,0.460,0.478,0.473,Slight-Right-Turn\n",
            "0.481,0.508,5.021,3.660,2.954,2.936,2.946,2.966,1.705,2.313,1.654,1.643,1.643,1.270,1.689,0.678,0.493,0.477,0.483,0.497,0.467,0.459,0.476,0.473,Slight-Right-Turn\n",
            "0.486,0.510,0.522,3.662,2.958,2.938,2.939,2.627,1.707,2.314,1.659,1.643,1.639,1.665,1.702,0.696,0.516,0.476,0.477,0.547,0.465,0.457,0.470,0.474,Slight-Right-Turn\n",
            "0.479,0.521,0.520,3.663,2.954,2.938,2.941,2.957,1.712,2.314,1.660,1.643,1.638,1.660,1.758,0.688,0.534,0.475,0.475,0.489,0.461,0.456,0.465,0.474,Slight-Right-Turn\n",
            "\n",
            "-------------------------------------------\n",
            "Time: 2022-03-26 19:02:29\n",
            "-------------------------------------------\n",
            "0.480,0.554,0.521,3.664,2.954,2.938,2.941,2.632,1.715,2.313,1.660,1.643,1.637,1.656,1.761,0.687,0.553,0.475,0.474,0.558,0.462,0.453,0.465,0.476,Slight-Right-Turn\n",
            "0.481,0.511,5.023,3.665,2.954,2.937,2.941,2.627,1.707,2.312,1.660,1.641,1.636,1.655,1.756,0.687,0.545,0.475,0.475,0.504,0.463,0.458,0.470,0.477,Slight-Right-Turn\n",
            "0.482,0.528,0.524,3.665,2.953,2.937,2.940,2.629,1.706,2.312,1.657,1.640,1.635,1.654,1.756,0.566,0.549,0.475,0.476,0.505,0.464,0.459,0.468,0.477,Slight-Right-Turn\n",
            "0.482,0.529,0.521,3.665,2.956,2.940,2.940,2.627,1.706,2.312,1.656,1.640,1.635,1.654,1.756,0.566,0.556,0.475,0.476,0.502,0.463,0.459,0.468,0.477,Slight-Right-Turn\n",
            "0.482,0.525,0.524,3.665,2.953,2.940,2.940,2.630,1.709,2.311,1.660,1.640,1.635,1.654,1.756,0.563,0.542,0.475,0.476,0.488,0.464,0.459,0.468,0.478,Slight-Right-Turn\n",
            "0.482,0.512,0.524,3.665,2.953,2.940,2.940,2.629,1.709,2.311,1.660,1.640,1.635,1.654,1.755,0.563,0.545,0.475,0.475,0.485,0.464,0.459,0.468,0.478,Slight-Right-Turn\n",
            "0.484,0.514,0.525,3.667,2.954,2.938,2.941,2.957,1.707,2.310,1.658,1.638,1.633,1.652,1.753,0.682,0.535,0.475,0.475,0.544,0.465,0.457,0.469,0.483,Slight-Right-Turn\n",
            "0.487,0.533,0.525,3.669,2.955,2.941,2.938,2.958,1.708,2.307,1.652,1.635,1.629,1.648,1.749,0.535,0.541,0.474,0.474,0.525,0.468,0.459,0.471,0.483,Slight-Right-Turn\n",
            "0.492,0.537,0.532,3.673,2.956,2.942,2.942,3.472,1.704,2.304,1.647,1.630,1.624,1.646,1.744,0.526,0.545,0.474,0.473,0.486,0.471,0.462,0.474,0.488,Slight-Right-Turn\n",
            "0.494,0.539,0.538,3.677,2.956,2.942,2.939,3.053,1.695,2.298,1.645,1.624,1.618,1.639,1.780,0.526,0.530,0.474,0.473,0.542,0.476,0.467,0.478,0.498,Slight-Right-Turn\n",
            "\n",
            "-------------------------------------------\n",
            "Time: 2022-03-26 19:02:30\n",
            "-------------------------------------------\n",
            "0.501,0.539,5.024,3.681,2.960,2.943,2.942,3.738,2.596,2.294,1.635,1.617,1.611,1.635,1.728,0.523,0.541,0.474,0.473,0.495,0.481,0.472,0.483,0.505,Slight-Right-Turn\n",
            "0.509,0.546,5.028,3.687,5.000,2.944,2.942,2.963,2.589,2.286,1.634,1.610,1.609,1.621,1.662,0.526,0.541,0.477,0.472,0.488,0.487,0.477,0.488,0.513,Slight-Right-Turn\n",
            "0.517,0.554,5.025,3.695,2.969,2.945,2.943,2.986,1.682,2.280,1.633,1.604,1.603,1.611,1.646,0.524,0.553,0.487,0.471,0.483,0.493,0.483,0.494,0.525,Slight-Right-Turn\n",
            "0.526,0.560,5.026,3.701,5.000,2.945,2.943,2.600,1.670,2.273,1.628,1.595,1.590,1.602,0.576,0.705,0.549,0.477,0.471,0.483,0.503,0.490,0.500,0.528,Sharp-Right-Turn\n",
            "0.535,0.568,0.670,3.707,5.000,2.949,2.943,2.588,1.662,2.266,5.000,1.586,1.581,1.592,1.620,0.699,0.542,0.476,0.471,0.482,0.500,0.497,0.506,0.540,Slight-Right-Turn\n",
            "0.544,0.559,5.029,3.712,5.000,2.948,2.943,2.582,1.654,1.648,5.000,1.580,1.572,1.579,1.607,0.525,0.572,0.476,0.471,0.482,0.514,0.504,0.513,0.553,Slight-Right-Turn\n",
            "0.553,0.565,5.026,3.718,5.000,2.948,2.943,2.577,1.646,1.640,5.000,1.571,1.562,1.570,1.597,0.526,0.592,0.476,0.470,0.482,0.521,0.511,0.523,0.567,Slight-Right-Turn\n",
            "0.562,0.574,5.026,3.728,3.757,2.949,2.943,1.661,1.637,1.631,5.000,1.561,1.553,1.560,1.587,0.701,0.558,0.476,0.470,0.481,0.529,0.518,0.530,0.573,Slight-Right-Turn\n",
            "0.572,0.583,5.023,3.731,3.777,2.953,2.943,2.960,1.631,1.625,5.000,1.554,1.542,1.553,1.179,0.689,0.580,0.477,0.470,0.481,0.537,0.525,0.534,0.581,Slight-Right-Turn\n",
            "0.582,0.593,5.029,3.740,3.786,2.956,2.943,2.953,2.541,2.231,1.558,1.541,1.532,1.542,1.167,0.742,0.573,0.477,0.470,0.481,0.548,0.536,0.545,0.590,Slight-Right-Turn\n",
            "\n"
          ]
        }
      ]
    },
    {
      "cell_type": "markdown",
      "metadata": {
        "id": "I61flWvt8FLp"
      },
      "source": [
        "### Question 1 (4/10 marks)\n",
        "An important factor for a navigating robot is avoiding obstacles. This is why there are so many sensors on this robot to measure the distance to all surrounding obstacles in all directions. Write a program that every second reports the smallest distances measured in the last 3 seconds by any sensor.\n",
        "\n",
        "\n",
        "For example, if the robot performs the following two measurements in the last 3 seconds:\n",
        "```\n",
        "0.482,0.512,0.524,3.665,2.953,2.940,2.940,2.629,1.709,2.311,1.660,1.640,1.635,1.654,1.755,0.563,0.545,0.475,0.475,0.485,0.464,0.459,0.468,0.478,Slight-Right-Turn\n",
        "0.484,0.514,0.525,3.667,2.954,2.938,2.941,2.957,1.707,2.310,1.658,1.638,1.633,1.652,1.753,0.682,0.535,0.475,0.475,0.544,0.465,0.457,0.469,0.483,Slight-Right-Turn\n",
        "```\n",
        "your program must print:\n",
        "```\n",
        "-------------------------------------------\n",
        "Time: 2020-11-27 23:56:24\n",
        "-------------------------------------------\n",
        "0.457\n",
        "```\n",
        "Note that this is the output for one 3-second window. The program should keep printing the smallest distance for all windows as long as your program is running.\n",
        "\n",
        "All of the calculations must be performed in Spark and not the driver program. You must use `pprint` at the end to print the results.\n",
        "\n",
        "You can consult [this document](https://spark.apache.org/docs/2.2.0/streaming-programming-guide.html) to find more about available transformations on DStreams.\n",
        "\n",
        "\n"
      ]
    },
    {
      "cell_type": "code",
      "metadata": {
        "id": "7259HnozDivW",
        "colab": {
          "base_uri": "https://localhost:8080/"
        },
        "outputId": "679ef730-f636-4acd-e242-25afefaa74c0"
      },
      "source": [
        "ssc = initStreamingContext()\n",
        "robotData = ssc.socketTextStream(\"datasci.cs.uwaterloo.ca\", 4321)\n",
        "#### Your Solution to Question 1 here\n",
        "\n",
        "# get data from last three seconds, get rid of the direction, flatmap all data and find the minimum\n",
        "stream = robotData.window(3,1).map(lambda lines : lines.split(',')[:-1]).flatMap(lambda x : x).map(lambda x : float(x)).reduce(min) \n",
        "\n",
        "# print result every second\n",
        "stream.pprint()\n",
        "ssc.start()\n",
        "# Let's wait for 10 seconds before we stop the program.\n",
        "# Feel free to change this value but make sure you change it back to 10 before submission.\n",
        "time.sleep(10)\n",
        "ssc.stop()"
      ],
      "execution_count": 9,
      "outputs": [
        {
          "output_type": "stream",
          "name": "stdout",
          "text": [
            "-------------------------------------------\n",
            "Time: 2022-03-26 19:09:26\n",
            "-------------------------------------------\n",
            "0.429\n",
            "\n",
            "-------------------------------------------\n",
            "Time: 2022-03-26 19:09:27\n",
            "-------------------------------------------\n",
            "0.429\n",
            "\n",
            "-------------------------------------------\n",
            "Time: 2022-03-26 19:09:28\n",
            "-------------------------------------------\n",
            "0.429\n",
            "\n",
            "-------------------------------------------\n",
            "Time: 2022-03-26 19:09:29\n",
            "-------------------------------------------\n",
            "0.429\n",
            "\n",
            "-------------------------------------------\n",
            "Time: 2022-03-26 19:09:30\n",
            "-------------------------------------------\n",
            "0.453\n",
            "\n",
            "-------------------------------------------\n",
            "Time: 2022-03-26 19:09:31\n",
            "-------------------------------------------\n",
            "0.453\n",
            "\n",
            "-------------------------------------------\n",
            "Time: 2022-03-26 19:09:32\n",
            "-------------------------------------------\n",
            "0.457\n",
            "\n",
            "-------------------------------------------\n",
            "Time: 2022-03-26 19:09:33\n",
            "-------------------------------------------\n",
            "0.47\n",
            "\n",
            "-------------------------------------------\n",
            "Time: 2022-03-26 19:09:34\n",
            "-------------------------------------------\n",
            "0.472\n",
            "\n",
            "-------------------------------------------\n",
            "Time: 2022-03-26 19:09:35\n",
            "-------------------------------------------\n",
            "0.487\n",
            "\n"
          ]
        }
      ]
    },
    {
      "cell_type": "markdown",
      "metadata": {
        "id": "WwkvRCWmEPZH"
      },
      "source": [
        "### Question 2 (6/10 marks)\n",
        "In this question, you characterize movements of the robot. The last field in every line indicates the movement type. Write a program that every second reports what movements were performed by the robot in the last 3 seconds. You should also report the ratio of each movement. For example, if 10 movements are \"Slight-Right-Turn\" out of 50 movements in the last 3 seconds, your program should print: Slight-Right-Turn 0.2. Finally, the movements should be reported in the descending order of the radios. Make sure you print \"----------\" to indicate the end of each window.\n",
        "\n",
        "\n",
        "Here is an example of the expected output:\n",
        "```\n",
        "Slight-Right-Turn 0.6666666666666666\n",
        "Sharp-Right-Turn 0.3333333333333333\n",
        "----------\n",
        "Sharp-Right-Turn 0.5384615384615384\n",
        "Slight-Right-Turn 0.46153846153846156\n",
        "----------\n",
        "Slight-Right-Turn 0.6590909090909091\n",
        "Sharp-Right-Turn 0.3409090909090909\n",
        "----------\n",
        "Slight-Right-Turn 0.75\n",
        "Sharp-Right-Turn 0.19642857142857142\n",
        "Move-Forward 0.05357142857142857\n",
        "----------\n",
        "```\n",
        "Note that all of these calculations much be performed in Spark and not the driver program. The driver program should only print the final result.\n",
        "\n",
        "**Hint**: since this question asks you to print results with a custom format you cannot use pprint(). Instead, prepare the results using some transformations and at the end use forEachRDD() to collect and print the results. Please look up forEachRDD in the API to learn how it works."
      ]
    },
    {
      "cell_type": "code",
      "metadata": {
        "id": "8zq5XvBNGIFN",
        "colab": {
          "base_uri": "https://localhost:8080/"
        },
        "outputId": "760a8675-3777-4891-8dd8-13aa3a72e9aa"
      },
      "source": [
        "ssc = initStreamingContext()\n",
        "robotData = ssc.socketTextStream(\"datasci.cs.uwaterloo.ca\", 4321)\n",
        "#### Your Solution to Question 2 here\n",
        "\n",
        "# divide movements of every direction from last three seconds by total movements\n",
        "def divider(rdd):\n",
        "  total = rdd.map(lambda x: x[1]).sum() # find total movements\n",
        "  for item in rdd.collect():\n",
        "    freq = item[1]/total # divide by total\n",
        "    print(item[0]+\" \"+str(freq)) # print direction and the frequency\n",
        "  print(\"----------\") # print split line\n",
        "\n",
        "# get data from last three second, find movements of every direction, sum up all movements by the key (direction)\n",
        "stream = robotData.window(3,1).map(lambda lines : (lines.split(',')[-1], len(lines.split(',')[:-1]))).reduceByKey(lambda x,y: x+y)\n",
        "\n",
        "# for each rdd, execute divider function\n",
        "stream.foreachRDD(divider)\n",
        "\n",
        "ssc.start()\n",
        "# Let's wait for 10 seconds before we stop the program.\n",
        "# Feel free to change this value but make sure you change it back to 10 before submission.\n",
        "time.sleep(10)\n",
        "ssc.stop()"
      ],
      "execution_count": 5,
      "outputs": [
        {
          "output_type": "stream",
          "name": "stdout",
          "text": [
            "Slight-Right-Turn 1.0\n",
            "----------\n",
            "Slight-Right-Turn 0.5333333333333333\n",
            "Sharp-Right-Turn 0.4666666666666667\n",
            "----------\n",
            "Slight-Right-Turn 0.44\n",
            "Sharp-Right-Turn 0.56\n",
            "----------\n",
            "Slight-Right-Turn 0.5333333333333333\n",
            "Sharp-Right-Turn 0.4666666666666667\n",
            "----------\n",
            "Slight-Right-Turn 0.7333333333333333\n",
            "Sharp-Right-Turn 0.26666666666666666\n",
            "----------\n",
            "Slight-Right-Turn 0.9666666666666667\n",
            "Sharp-Right-Turn 0.03333333333333333\n",
            "----------\n",
            "Slight-Right-Turn 0.9666666666666667\n",
            "Sharp-Right-Turn 0.03333333333333333\n",
            "----------\n",
            "Slight-Right-Turn 0.6666666666666666\n",
            "Move-Forward 0.3333333333333333\n",
            "----------\n",
            "Slight-Right-Turn 0.3333333333333333\n",
            "Move-Forward 0.6666666666666666\n",
            "----------\n",
            "Move-Forward 0.9\n",
            "Sharp-Right-Turn 0.1\n",
            "----------\n"
          ]
        }
      ]
    },
    {
      "cell_type": "markdown",
      "metadata": {
        "deletable": false,
        "tags": [
          "instructions"
        ],
        "id": "3hVKBrDDi7Oo"
      },
      "source": [
        "---\n",
        "Don't forget to save your workbook!   When you are finished and you are ready to submit your assignment, download your notebook file (.ipynb) from the hub to your machine, and then follow the submission instructions in the assignment."
      ]
    }
  ]
}